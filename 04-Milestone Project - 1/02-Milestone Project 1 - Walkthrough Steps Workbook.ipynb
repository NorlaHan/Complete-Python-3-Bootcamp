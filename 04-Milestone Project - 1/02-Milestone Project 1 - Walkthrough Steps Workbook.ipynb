{
 "cells": [
  {
   "cell_type": "markdown",
   "metadata": {},
   "source": [
    "# Milestone Project 1: Walkthrough Steps Workbook\n",
    "\n",
    "Below is a set of steps for you to follow to try to create the Tic Tac Toe Milestone Project game!"
   ]
  },
  {
   "cell_type": "markdown",
   "metadata": {},
   "source": [
    "#### Some suggested tools before you get started:\n",
    "To take input from a user:\n",
    "\n",
    "    player1 = input(\"Please pick a marker 'X' or 'O'\")\n",
    "    \n",
    "Note that input() takes in a string. If you need an integer value, use\n",
    "\n",
    "    position = int(input('Please enter a number'))\n",
    "    \n",
    "<br>To clear the screen between moves:\n",
    "\n",
    "    from IPython.display import clear_output\n",
    "    clear_output()\n",
    "    \n",
    "Note that clear_output() will only work in jupyter. To clear the screen in other IDEs, consider:\n",
    "\n",
    "    print('\\n'*100)\n",
    "    \n",
    "This scrolls the previous board up out of view. Now on to the program!"
   ]
  },
  {
   "cell_type": "markdown",
   "metadata": {},
   "source": [
    "**Step 1: Write a function that can print out a board. Set up your board as a list, where each index 1-9 corresponds with a number on a number pad, so you get a 3 by 3 board representation.**"
   ]
  },
  {
   "cell_type": "code",
   "execution_count": 7,
   "metadata": {},
   "outputs": [],
   "source": [
    "from IPython.display import clear_output\n",
    "\n",
    "def display_board(board):\n",
    "    print(' {0[7]} | {0[8]} | {0[9]} \\n---|---|---\\n {0[4]} | {0[5]} | {0[6]} \\n---|---|---\\n {0[1]} | {0[2]} | {0[3]} \\n'.format(board))"
   ]
  },
  {
   "cell_type": "code",
   "execution_count": 25,
   "metadata": {},
   "outputs": [
    {
     "name": "stdout",
     "output_type": "stream",
     "text": [
      " X | O | X \n",
      "---|---|---\n",
      " O | X | O \n",
      "---|---|---\n",
      " X | O | X \n",
      "\n"
     ]
    }
   ],
   "source": [
    "test_board = ['#','X','O','X','O','X','O','X','O','X']\n",
    "display_board(test_board)"
   ]
  },
  {
   "cell_type": "markdown",
   "metadata": {},
   "source": [
    "**TEST Step 1:** run your function on a test version of the board list, and make adjustments as necessary"
   ]
  },
  {
   "cell_type": "code",
   "execution_count": 10,
   "metadata": {},
   "outputs": [
    {
     "name": "stdout",
     "output_type": "stream",
     "text": [
      " X | O | X \n",
      "---|---|---\n",
      " O | X | O \n",
      "---|---|---\n",
      " X | O | X \n",
      "\n"
     ]
    }
   ],
   "source": [
    "test_board = ['#','X','O','X','O','X','O','X','O','X']\n",
    "display_board(test_board)"
   ]
  },
  {
   "cell_type": "markdown",
   "metadata": {},
   "source": [
    "**Step 2: Write a function that can take in a player input and assign their marker as 'X' or 'O'. Think about using *while* loops to continually ask until you get a correct answer.**"
   ]
  },
  {
   "cell_type": "code",
   "execution_count": 4,
   "metadata": {},
   "outputs": [],
   "source": [
    "def player_input():\n",
    "    print('Player 1,please choise your mark, X or O\\n')\n",
    "    player_marker=''\n",
    "    while player_marker not in ['x','o']:\n",
    "        player_marker=input().lower()\n",
    "        if player_marker in ['x','o']:\n",
    "            print('Player 1 marker is',player_marker.upper())\n",
    "            if player_marker=='x':\n",
    "                print('Player 2 marker is O')\n",
    "            else:\n",
    "                print('Player 2 marker is X')\n",
    "            return player_marker.upper()\n",
    "        else:\n",
    "            print('Please enter \"X\" or \"O\"')\n",
    "    pass"
   ]
  },
  {
   "cell_type": "code",
   "execution_count": 1,
   "metadata": {},
   "outputs": [],
   "source": [
    "def player_input():\n",
    "    player_marker=''\n",
    "    while player_marker not in ['X','O']:\n",
    "        player_marker=input('Player 1,please choise your mark,\"X\" or \"O\"').upper()\n",
    "\n",
    "    print('\\nPlayer 1 marker is',player_marker)\n",
    "    if player_marker=='X':\n",
    "        print('Player 2 marker is O')\n",
    "        return ('X','O')\n",
    "    else:\n",
    "        print('Player 2 marker is X')\n",
    "        return ('O','X')"
   ]
  },
  {
   "cell_type": "markdown",
   "metadata": {},
   "source": [
    "**TEST Step 2:** run the function to make sure it returns the desired output"
   ]
  },
  {
   "cell_type": "code",
   "execution_count": 2,
   "metadata": {},
   "outputs": [
    {
     "name": "stdout",
     "output_type": "stream",
     "text": [
      "Player 1,please choise your mark,\"X\" or \"O\"0\n",
      "Player 1,please choise your mark,\"X\" or \"O\"o\n",
      "\n",
      "Player 1 marker is O\n",
      "Player 2 marker is X\n"
     ]
    },
    {
     "data": {
      "text/plain": [
       "('O', 'X')"
      ]
     },
     "execution_count": 2,
     "metadata": {},
     "output_type": "execute_result"
    }
   ],
   "source": [
    "player_input()"
   ]
  },
  {
   "cell_type": "markdown",
   "metadata": {},
   "source": [
    "**Step 3: Write a function that takes in the board list object, a marker ('X' or 'O'), and a desired position (number 1-9) and assigns it to the board.**"
   ]
  },
  {
   "cell_type": "code",
   "execution_count": 6,
   "metadata": {},
   "outputs": [],
   "source": [
    "def place_marker(board, marker, position):\n",
    "    board[position]=marker\n",
    "    return board"
   ]
  },
  {
   "cell_type": "code",
   "execution_count": 11,
   "metadata": {},
   "outputs": [
    {
     "name": "stdout",
     "output_type": "stream",
     "text": [
      " X | $ | X \n",
      "---|---|---\n",
      " O | X | O \n",
      "---|---|---\n",
      " X | O | X \n",
      "\n"
     ]
    }
   ],
   "source": [
    "#test_board=['#',' ',' ',' ',' ',' ',' ',' ',' ',' ']\n",
    "place_marker(test_board,'$',8)\n",
    "display_board(test_board)"
   ]
  },
  {
   "cell_type": "markdown",
   "metadata": {},
   "source": [
    "**TEST Step 3:** run the place marker function using test parameters and display the modified board"
   ]
  },
  {
   "cell_type": "code",
   "execution_count": 9,
   "metadata": {},
   "outputs": [
    {
     "name": "stdout",
     "output_type": "stream",
     "text": [
      " X | $ | X \n",
      "-----------\n",
      " O | X | O \n",
      "-----------\n",
      " X | O | X \n",
      "\n"
     ]
    }
   ],
   "source": [
    "place_marker(test_board,'$',8)\n",
    "display_board(test_board)"
   ]
  },
  {
   "cell_type": "markdown",
   "metadata": {},
   "source": [
    "**Step 4: Write a function that takes in a board and a mark (X or O) and then checks to see if that mark has won. **"
   ]
  },
  {
   "cell_type": "code",
   "execution_count": 10,
   "metadata": {},
   "outputs": [],
   "source": [
    "def win_check(board, mark):\n",
    "    result=[]\n",
    "    win1=[1,2,3]\n",
    "    win2=[4,5,6]\n",
    "    win3=[7,8,9]\n",
    "    win4=[1,4,7]\n",
    "    win5=[2,5,8]\n",
    "    win6=[3,6,9]\n",
    "    win7=[1,5,9]\n",
    "    win8=[3,5,7]\n",
    "    all_win=[win1,win2,win3,win4,win5,win6,win7,win8]\n",
    "    for i,v in enumerate(board):\n",
    "        if v.lower()==mark.lower():\n",
    "            result.append(i)\n",
    "\n",
    "    for win in all_win:\n",
    "        check=[False,False,False]\n",
    "        for i,v in enumerate(win):\n",
    "            if v in result:\n",
    "                check[i]=True\n",
    "        if check[0] and check[1] and check[2]:\n",
    "            return True\n",
    "    return False"
   ]
  },
  {
   "cell_type": "markdown",
   "metadata": {},
   "source": [
    "**TEST Step 4:** run the win_check function against our test_board - it should return True"
   ]
  },
  {
   "cell_type": "code",
   "execution_count": 11,
   "metadata": {},
   "outputs": [
    {
     "data": {
      "text/plain": [
       "True"
      ]
     },
     "execution_count": 11,
     "metadata": {},
     "output_type": "execute_result"
    }
   ],
   "source": [
    "win_check(test_board,'X')"
   ]
  },
  {
   "cell_type": "markdown",
   "metadata": {},
   "source": [
    "**Step 5: Write a function that uses the random module to randomly decide which player goes first. You may want to lookup random.randint() Return a string of which player went first.**"
   ]
  },
  {
   "cell_type": "code",
   "execution_count": 12,
   "metadata": {},
   "outputs": [],
   "source": [
    "import random\n",
    "\n",
    "def choose_first():\n",
    "    if random.randint(0,1)==0:\n",
    "        print('\\nPlayer 1 goes first.\\n')\n",
    "        return True\n",
    "    else:\n",
    "        print('\\nPlarer 2 goes first.\\n')\n",
    "        return False"
   ]
  },
  {
   "cell_type": "code",
   "execution_count": 13,
   "metadata": {},
   "outputs": [
    {
     "name": "stdout",
     "output_type": "stream",
     "text": [
      "\n",
      "Plarer 2 goes first.\n",
      "\n"
     ]
    },
    {
     "data": {
      "text/plain": [
       "False"
      ]
     },
     "execution_count": 13,
     "metadata": {},
     "output_type": "execute_result"
    }
   ],
   "source": [
    "choose_first()"
   ]
  },
  {
   "cell_type": "markdown",
   "metadata": {},
   "source": [
    "**Step 6: Write a function that returns a boolean indicating whether a space on the board is freely available.**"
   ]
  },
  {
   "cell_type": "code",
   "execution_count": 14,
   "metadata": {},
   "outputs": [],
   "source": [
    "def space_check(board, position):\n",
    "    return board[position]==' '"
   ]
  },
  {
   "cell_type": "markdown",
   "metadata": {},
   "source": [
    "**Step 7: Write a function that checks if the board is full and returns a boolean value. True if full, False otherwise.**"
   ]
  },
  {
   "cell_type": "code",
   "execution_count": 15,
   "metadata": {},
   "outputs": [],
   "source": [
    "def full_board_check(board):\n",
    "    for i in board:\n",
    "        if i==' ':\n",
    "            return False\n",
    "    return True"
   ]
  },
  {
   "cell_type": "markdown",
   "metadata": {},
   "source": [
    "**Step 8: Write a function that asks for a player's next position (as a number 1-9) and then uses the function from step 6 to check if it's a free position. If it is, then return the position for later use.**"
   ]
  },
  {
   "cell_type": "code",
   "execution_count": 16,
   "metadata": {},
   "outputs": [],
   "source": [
    "def player_choice(board):\n",
    "    next_position=0\n",
    "    while next_position not in range(1,10):\n",
    "        print('Please enter position as numpad 1-9')\n",
    "        next_position=int(input())\n",
    "        if space_check(board, next_position):\n",
    "            return next_position\n",
    "        else:\n",
    "            print(next_position,'is occupied, try another one.')\n",
    "            next_position=0"
   ]
  },
  {
   "cell_type": "code",
   "execution_count": 17,
   "metadata": {},
   "outputs": [
    {
     "name": "stdout",
     "output_type": "stream",
     "text": [
      "Please enter position as numpad 1-9\n",
      "2\n"
     ]
    },
    {
     "data": {
      "text/plain": [
       "2"
      ]
     },
     "execution_count": 17,
     "metadata": {},
     "output_type": "execute_result"
    }
   ],
   "source": [
    "test_board = ['#','X',' ','X','O','X','O','X','O','X']\n",
    "player_choice(test_board)"
   ]
  },
  {
   "cell_type": "markdown",
   "metadata": {},
   "source": [
    "**Step 9: Write a function that asks the player if they want to play again and returns a boolean True if they do want to play again.**"
   ]
  },
  {
   "cell_type": "code",
   "execution_count": 18,
   "metadata": {},
   "outputs": [],
   "source": [
    "def replay():\n",
    "    player_input=''\n",
    "    while player_input not in ['yes','no','y','n']:\n",
    "        print('Play again? (\"Yes\" or \"No\")')\n",
    "        player_input=input().lower()\n",
    "    return player_input in ['yes','y']"
   ]
  },
  {
   "cell_type": "code",
   "execution_count": 19,
   "metadata": {},
   "outputs": [
    {
     "name": "stdout",
     "output_type": "stream",
     "text": [
      "Play again? (\"Yes\" or \"No\")\n",
      "n\n"
     ]
    },
    {
     "data": {
      "text/plain": [
       "False"
      ]
     },
     "execution_count": 19,
     "metadata": {},
     "output_type": "execute_result"
    }
   ],
   "source": [
    "replay()"
   ]
  },
  {
   "cell_type": "markdown",
   "metadata": {
    "collapsed": true
   },
   "source": [
    "**Step 10: Here comes the hard part! Use while loops and the functions you've made to run the game!**"
   ]
  },
  {
   "cell_type": "code",
   "execution_count": 20,
   "metadata": {},
   "outputs": [
    {
     "name": "stdout",
     "output_type": "stream",
     "text": [
      "   |   |   \n",
      "-----------\n",
      " X | ('O', 'X') |   \n",
      "-----------\n",
      "   |   |   \n",
      "\n"
     ]
    },
    {
     "ename": "AttributeError",
     "evalue": "'tuple' object has no attribute 'lower'",
     "output_type": "error",
     "traceback": [
      "\u001b[1;31m---------------------------------------------------------------------------\u001b[0m",
      "\u001b[1;31mAttributeError\u001b[0m                            Traceback (most recent call last)",
      "\u001b[1;32m<ipython-input-20-7fa98e856ee4>\u001b[0m in \u001b[0;36m<module>\u001b[1;34m\u001b[0m\n\u001b[0;32m     34\u001b[0m             \u001b[0mdisplay_board\u001b[0m\u001b[1;33m(\u001b[0m\u001b[0mboard\u001b[0m\u001b[1;33m)\u001b[0m\u001b[1;33m\u001b[0m\u001b[1;33m\u001b[0m\u001b[0m\n\u001b[0;32m     35\u001b[0m \u001b[1;33m\u001b[0m\u001b[0m\n\u001b[1;32m---> 36\u001b[1;33m             \u001b[1;32mif\u001b[0m \u001b[0mwin_check\u001b[0m\u001b[1;33m(\u001b[0m\u001b[0mboard\u001b[0m\u001b[1;33m,\u001b[0m \u001b[0mp1_mark\u001b[0m\u001b[1;33m)\u001b[0m\u001b[1;33m:\u001b[0m\u001b[1;33m\u001b[0m\u001b[1;33m\u001b[0m\u001b[0m\n\u001b[0m\u001b[0;32m     37\u001b[0m                 \u001b[0mprint\u001b[0m\u001b[1;33m(\u001b[0m\u001b[1;34m'\\nPlayer 1 Win!\\n'\u001b[0m\u001b[1;33m)\u001b[0m\u001b[1;33m\u001b[0m\u001b[1;33m\u001b[0m\u001b[0m\n\u001b[0;32m     38\u001b[0m                 \u001b[0mgame_on\u001b[0m\u001b[1;33m=\u001b[0m\u001b[1;32mFalse\u001b[0m\u001b[1;33m\u001b[0m\u001b[1;33m\u001b[0m\u001b[0m\n",
      "\u001b[1;32m<ipython-input-10-6bc896668f12>\u001b[0m in \u001b[0;36mwin_check\u001b[1;34m(board, mark)\u001b[0m\n\u001b[0;32m     11\u001b[0m     \u001b[0mall_win\u001b[0m\u001b[1;33m=\u001b[0m\u001b[1;33m[\u001b[0m\u001b[0mwin1\u001b[0m\u001b[1;33m,\u001b[0m\u001b[0mwin2\u001b[0m\u001b[1;33m,\u001b[0m\u001b[0mwin3\u001b[0m\u001b[1;33m,\u001b[0m\u001b[0mwin4\u001b[0m\u001b[1;33m,\u001b[0m\u001b[0mwin5\u001b[0m\u001b[1;33m,\u001b[0m\u001b[0mwin6\u001b[0m\u001b[1;33m,\u001b[0m\u001b[0mwin7\u001b[0m\u001b[1;33m,\u001b[0m\u001b[0mwin8\u001b[0m\u001b[1;33m]\u001b[0m\u001b[1;33m\u001b[0m\u001b[1;33m\u001b[0m\u001b[0m\n\u001b[0;32m     12\u001b[0m     \u001b[1;32mfor\u001b[0m \u001b[0mi\u001b[0m\u001b[1;33m,\u001b[0m\u001b[0mv\u001b[0m \u001b[1;32min\u001b[0m \u001b[0menumerate\u001b[0m\u001b[1;33m(\u001b[0m\u001b[0mboard\u001b[0m\u001b[1;33m)\u001b[0m\u001b[1;33m:\u001b[0m\u001b[1;33m\u001b[0m\u001b[1;33m\u001b[0m\u001b[0m\n\u001b[1;32m---> 13\u001b[1;33m         \u001b[1;32mif\u001b[0m \u001b[0mv\u001b[0m\u001b[1;33m.\u001b[0m\u001b[0mlower\u001b[0m\u001b[1;33m(\u001b[0m\u001b[1;33m)\u001b[0m\u001b[1;33m==\u001b[0m\u001b[0mmark\u001b[0m\u001b[1;33m.\u001b[0m\u001b[0mlower\u001b[0m\u001b[1;33m(\u001b[0m\u001b[1;33m)\u001b[0m\u001b[1;33m:\u001b[0m\u001b[1;33m\u001b[0m\u001b[1;33m\u001b[0m\u001b[0m\n\u001b[0m\u001b[0;32m     14\u001b[0m             \u001b[0mresult\u001b[0m\u001b[1;33m.\u001b[0m\u001b[0mappend\u001b[0m\u001b[1;33m(\u001b[0m\u001b[0mi\u001b[0m\u001b[1;33m)\u001b[0m\u001b[1;33m\u001b[0m\u001b[1;33m\u001b[0m\u001b[0m\n\u001b[0;32m     15\u001b[0m \u001b[1;33m\u001b[0m\u001b[0m\n",
      "\u001b[1;31mAttributeError\u001b[0m: 'tuple' object has no attribute 'lower'"
     ]
    }
   ],
   "source": [
    "from IPython.display import clear_output\n",
    "print('Welcome to Tic Tac Toe!')\n",
    "\n",
    "p1_mark=''\n",
    "p2_mark=''        \n",
    "p1_mark=player_input()\n",
    "if p1_mark=='X':\n",
    "    p2_mark='O'\n",
    "else:\n",
    "    p2_mark='X'\n",
    "    \n",
    "isplaying=True    \n",
    "#while True:\n",
    "while isplaying:\n",
    "    # Set the game up here\n",
    "    board=['#',' ',' ',' ',' ',' ',' ',' ',' ',' ']\n",
    "    \n",
    "    #pass\n",
    "    p1_turn=choose_first()\n",
    "    display_board(board)\n",
    "    \n",
    "    game_on=True\n",
    "    #while game_on:\n",
    "    while game_on:\n",
    "        position=0\n",
    "        #Player 1 Turn\n",
    "        if p1_turn:\n",
    "            print(\"\\nPlayer 1's turn. (\",p1_mark,')\\n')\n",
    "            \n",
    "            position=player_choice(board)\n",
    "            board[position]=p1_mark\n",
    "            \n",
    "            clear_output()\n",
    "            display_board(board)\n",
    "            \n",
    "            if win_check(board, p1_mark):\n",
    "                print('\\nPlayer 1 Win!\\n')\n",
    "                game_on=False\n",
    "            p1_turn=False\n",
    "            \n",
    "        # Player2's turn.\n",
    "        else:\n",
    "            print(\"\\nPlayer 2's turn. (\", p2_mark,')\\n')\n",
    "            position=player_choice(board)\n",
    "            board[position]=p2_mark\n",
    "            \n",
    "            clear_output()\n",
    "            display_board(board)\n",
    "            \n",
    "            if win_check(board, p2_mark):\n",
    "                print('\\nPlayer 2 Win!\\n')\n",
    "                game_on=False\n",
    "            p1_turn=True\n",
    "            pass             \n",
    "        \n",
    "        if full_board_check(board):\n",
    "            print('Draw!')\n",
    "            game_on=False\n",
    "            #break\n",
    "            \n",
    "    #if not replay():    \n",
    "    if not replay():\n",
    "        isplaying=False\n",
    "    else:\n",
    "        clear_output()\n",
    "        print('Player 1 :',p1_mark,',Player 2 :',p2_mark)\n",
    "        #break\n"
   ]
  },
  {
   "cell_type": "code",
   "execution_count": 32,
   "metadata": {},
   "outputs": [
    {
     "name": "stdout",
     "output_type": "stream",
     "text": [
      " O | X | X \n",
      "---|---|---\n",
      "   | X | O \n",
      "---|---|---\n",
      " O | X |   \n",
      "\n",
      "\n",
      "Player 2 Win!\n",
      "\n",
      "Play again? (\"Yes\" or \"No\")\n",
      "n\n"
     ]
    }
   ],
   "source": [
    "from IPython.display import clear_output\n",
    "print('Welcome to Tic Tac Toe!')\n",
    "\n",
    "p1_mark,p2_mark=player_input()\n",
    "\n",
    "isplaying=True    \n",
    "#while True:\n",
    "while isplaying:\n",
    "    # Set the game up here\n",
    "    board=['#',' ',' ',' ',' ',' ',' ',' ',' ',' ']\n",
    "    \n",
    "    #pass\n",
    "    p1_turn=choose_first()\n",
    "    display_board(board)\n",
    "    \n",
    "    game_on=True\n",
    "    #while game_on:\n",
    "    while game_on:\n",
    "        position=0\n",
    "        #Player 1 Turn\n",
    "        if p1_turn:\n",
    "            print(\"\\nPlayer 1's turn. (\",p1_mark,')\\n')\n",
    "            \n",
    "            position=player_choice(board)\n",
    "            board[position]=p1_mark\n",
    "            \n",
    "            clear_output()\n",
    "            display_board(board)\n",
    "            \n",
    "            if win_check(board, p1_mark):\n",
    "                print('\\nPlayer 1 Win!\\n')\n",
    "                break\n",
    "            p1_turn=False\n",
    "            \n",
    "        # Player2's turn.\n",
    "        else:\n",
    "            print(\"\\nPlayer 2's turn. (\", p2_mark,')\\n')\n",
    "            position=player_choice(board)\n",
    "            board[position]=p2_mark\n",
    "            \n",
    "            clear_output()\n",
    "            display_board(board)\n",
    "            \n",
    "            if win_check(board, p2_mark):\n",
    "                print('\\nPlayer 2 Win!\\n')\n",
    "                break\n",
    "            p1_turn=True\n",
    "            pass             \n",
    "        \n",
    "        if full_board_check(board):\n",
    "            print('Draw!')\n",
    "            break\n",
    "            #break\n",
    "            \n",
    "    #if not replay():    \n",
    "    if not replay():\n",
    "        break\n",
    "    else:\n",
    "        clear_output()\n",
    "        print('Player 1 :',p1_mark,',Player 2 :',p2_mark)\n",
    "        #break"
   ]
  },
  {
   "cell_type": "markdown",
   "metadata": {
    "collapsed": true
   },
   "source": [
    "## Good Job!"
   ]
  }
 ],
 "metadata": {
  "kernelspec": {
   "display_name": "Python 3",
   "language": "python",
   "name": "python3"
  },
  "language_info": {
   "codemirror_mode": {
    "name": "ipython",
    "version": 3
   },
   "file_extension": ".py",
   "mimetype": "text/x-python",
   "name": "python",
   "nbconvert_exporter": "python",
   "pygments_lexer": "ipython3",
   "version": "3.7.3"
  }
 },
 "nbformat": 4,
 "nbformat_minor": 1
}
