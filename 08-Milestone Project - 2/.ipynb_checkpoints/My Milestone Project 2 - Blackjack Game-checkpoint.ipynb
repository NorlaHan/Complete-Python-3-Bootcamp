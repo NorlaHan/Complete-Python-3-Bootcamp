{
 "cells": [
  {
   "cell_type": "markdown",
   "metadata": {},
   "source": [
    "Deck class is to handle which cards are in the deck. Preventing duplicated cards to appear."
   ]
  },
  {
   "cell_type": "code",
   "execution_count": 63,
   "metadata": {},
   "outputs": [],
   "source": [
    "# Deck class\n",
    "import sys\n",
    "import random\n",
    "\n",
    "sys.setrecursionlimit(3000)\n",
    "\n",
    "class Deck():\n",
    "    deck=[]\n",
    "    clubs=list(zip(['clubs']*13,range(1,14)))\n",
    "    diamonds=list(zip(['diamonds']*13,range(1,14)))\n",
    "    hearts=list(zip(['hearts']*13,range(1,14)))\n",
    "    spades=list(zip(['spades']*13,range(1,14)))\n",
    "    \n",
    "    def __init__(self):\n",
    "        self.shuffle()\n",
    "    \n",
    "    def shuffle(self):\n",
    "        self.deck= self.clubs + self.diamonds + self.hearts + self.spades\n",
    "    \n",
    "    def draw(self):\n",
    "        self.card=self.deck.pop(random.randint(0,(len(self.deck)-1)))\n",
    "        print('deck remain',len(self.deck),'\\n')\n",
    "        return self.card\n",
    "    \n",
    "    def report(self):\n",
    "        num=len(self.deck)\n",
    "        print(f'There are {num} cards in the deck\\n')\n",
    "        ask=input('Show deck?\\n')\n",
    "        if ask.lower() in ['yes','y']:\n",
    "            print('Deck :')\n",
    "            print(self.deck)\n",
    "            print('\\n')\n",
    "        else:\n",
    "            print('\\n')\n"
   ]
  },
  {
   "cell_type": "code",
   "execution_count": 64,
   "metadata": {
    "scrolled": true
   },
   "outputs": [],
   "source": [
    "deck=Deck()"
   ]
  },
  {
   "cell_type": "code",
   "execution_count": 65,
   "metadata": {},
   "outputs": [
    {
     "name": "stdout",
     "output_type": "stream",
     "text": [
      "deck remain 51 \n",
      "\n"
     ]
    },
    {
     "data": {
      "text/plain": [
       "('spades', 7)"
      ]
     },
     "execution_count": 65,
     "metadata": {},
     "output_type": "execute_result"
    }
   ],
   "source": [
    "deck.draw()"
   ]
  },
  {
   "cell_type": "markdown",
   "metadata": {},
   "source": [
    "PlayerHand class is to handle which cards aer in the player hand."
   ]
  },
  {
   "cell_type": "code",
   "execution_count": 66,
   "metadata": {},
   "outputs": [],
   "source": [
    "# Player hand class\n",
    "class PlayerHand():\n",
    "    hand=[]\n",
    "    \n",
    "    def __init__(self,owner='defult'):\n",
    "        self.owner=owner\n",
    "        self.clear()\n",
    "        \n",
    "    def hit(self,card):\n",
    "        self.hand += [card]\n",
    "        print(self.owner, 'hand:',f'\\n{self.hand}\\n')\n",
    "        \n",
    "    def clear(self):\n",
    "        self.hand=[]\n",
    "        \n",
    "    def report(self):\n",
    "        num=len(self.hand)\n",
    "        print(f\"There are {num} cards in the {self.owner}'s hand\")\n",
    "        ask=input(f'Show {self.owner} hand?\\n')\n",
    "        if ask.lower() in ['yes','y']:\n",
    "            print('\\nHand :')\n",
    "            print(self.hand)\n",
    "            print('\\n')\n",
    "        else:\n",
    "             print('\\n')"
   ]
  },
  {
   "cell_type": "code",
   "execution_count": 67,
   "metadata": {},
   "outputs": [],
   "source": [
    "playerhand=PlayerHand()"
   ]
  },
  {
   "cell_type": "code",
   "execution_count": 68,
   "metadata": {},
   "outputs": [
    {
     "name": "stdout",
     "output_type": "stream",
     "text": [
      "defult hand: \n",
      "[['dummy', 2]]\n",
      "\n"
     ]
    }
   ],
   "source": [
    "playerhand.hit(['dummy',2])"
   ]
  },
  {
   "cell_type": "markdown",
   "metadata": {},
   "source": [
    "GameController class is to handle the game mechanics.\n",
    "Keep teacking the player's money\n",
    "Game rounds\n",
    "Dealer's rounds"
   ]
  },
  {
   "cell_type": "code",
   "execution_count": 75,
   "metadata": {},
   "outputs": [],
   "source": [
    "#import Deck\n",
    "#import PlayerHand\n",
    "# Game class\n",
    "class GameController():\n",
    "    \n",
    "    player_money=0\n",
    "    #game_state=False\n",
    "    #isplaying=True\n",
    "    \n",
    "    # Game setting, how many money dose the player have\n",
    "    def __init__(self):\n",
    "        self.game_setting()\n",
    "        \n",
    "    \n",
    "    def game_setting(self):\n",
    "        # Grettings\n",
    "        print('Welcome to Black Jack game, how many money are you gaming?\\n')\n",
    "        while True:\n",
    "            try:\n",
    "                self.player_money=int(input('Please enter your money: '))\n",
    "            except:\n",
    "                print('You can not bet that, and we do not accept change.\\n')\n",
    "            else:\n",
    "                print(f'Your bet {self.player_money} acceptted.\\n')\n",
    "                break\n",
    "        self.game()\n",
    "        \n",
    "    def game(self):   \n",
    "        \n",
    "        isplaying=True\n",
    "        game_state=False\n",
    "        isplaying=True\n",
    "        \n",
    "        while isplaying:\n",
    "            \n",
    "            ready=False\n",
    "            \n",
    "            while not ready:\n",
    "\n",
    "                answer = input('Are you ready? (Yes or No)\\n')\n",
    "\n",
    "                if answer.lower() in ['yes','y']:\n",
    "                    print('\\nLet the game begine.\\n')\n",
    "                    ready=True\n",
    "                    game_state=True\n",
    "                elif answer.lower() in ['no','n']:\n",
    "                    ready=False\n",
    "                    print('OK, take your time.\\n')\n",
    "                else:\n",
    "                    print('That is not an answer.\\n')\n",
    "            \n",
    "            deck=Deck()\n",
    "            \n",
    "            player_hand=PlayerHand('player')\n",
    "            self.player_hand.hit(deck.draw())\n",
    "            \n",
    "            dealer_hand=PlayerHand('dealer')\n",
    "            self.dealer_hand(deck.draw())\n",
    "            \n",
    "            turn='player'\n",
    "            \n",
    "            # Game start\n",
    "            while game_state:\n",
    "                \n",
    "                turn='player'\n",
    "                player_bet=0\n",
    "                player_add=0\n",
    "                dealer_add=0\n",
    "                \n",
    "                # Placing bet and checking money\n",
    "                if self.player_money<=0: # Game Over\n",
    "                    print('No more money left, bye')\n",
    "                    isplaying=False\n",
    "                    game_state=False\n",
    "                    break\n",
    "                else:\n",
    "                    \n",
    "                    bet_ready=False\n",
    "                                        \n",
    "                    while not bet_ready:\n",
    "                        try:\n",
    "                            player_bet=int(input('Place your bet! :'))\n",
    "                        except:\n",
    "                            print('Seriously... that is not a bet.\\n')\n",
    "                        else:\n",
    "                            if player_bet>self.player_money:\n",
    "                                print(\"Sorry, you don't have that money.\\n\")\n",
    "                            else:\n",
    "                                self.player_money-=player_bet\n",
    "                                print(f\"Your bet is : {player_bet},\",f'Money left: {self.player_money}')\n",
    "                                bet_ready=True\n",
    "                \n",
    "                # Player's turn\n",
    "                while turn=='player':\n",
    "                    \n",
    "                    if len(player_hand.hand)==0:\n",
    "                        player_hand.hit(deck.draw())\n",
    "                    else:\n",
    "                        \n",
    "                        asking_hit_stand=True\n",
    "                        \n",
    "                        while asking_hit_stand:\n",
    "                            \n",
    "                            ask = input('Hit or stand? ')\n",
    "                            \n",
    "                            if ask.lower() in ['hit','h']:\n",
    "                                player_hand.hit(deck.draw())                                \n",
    "                                asking_hit_stand=False\n",
    "                            elif ask.lower() in ['stand','s']:\n",
    "                                turn='dealer'\n",
    "                                asking_hit_stand=False\n",
    "                                break\n",
    "                            else:\n",
    "                                print('That is not an answer!\\n')\n",
    "                        \n",
    "                    # Check for hand add up\n",
    "                    player_add=0                    \n",
    "                    for i,v in player_hand.hand:\n",
    "                        if v>=11:\n",
    "                            player_add+=10\n",
    "                        elif v>=2:\n",
    "                            player_add+=v\n",
    "                        else:\n",
    "                            if player_add+11 <= 21:\n",
    "                                player_add+=11\n",
    "                            else:\n",
    "                                player_add+=1\n",
    "                    \n",
    "                    print(f\"Player's hand add up is {player_add}\\n\")\n",
    "                    \n",
    "                    if player_add>21:\n",
    "                        # LOSE\n",
    "                        print(\"\\nPlayer Busted!\\n\")\n",
    "                        turn=='end'\n",
    "                        break\n",
    "                        \n",
    "                    \n",
    "                    #player_hand.report()\n",
    "\n",
    "\n",
    "                # Dealer's turn\n",
    "                while turn=='dealer':\n",
    "                    \n",
    "                    while dealer_add < player_add:\n",
    "                        \n",
    "                        dealer_hand(deck.draw())\n",
    "                        \n",
    "                        dealer_add=0                        \n",
    "                        for i,v in dealer_hand:\n",
    "                            if v>=11:\n",
    "                                dealer_add+=10\n",
    "                            elif v>=2:\n",
    "                                dealer_add+=v\n",
    "                            else:\n",
    "                                if dealer_add+11 <= 21:\n",
    "                                    dealer_add+=11\n",
    "                                else:\n",
    "                                    dealer_add+=1\n",
    "                    \n",
    "                        print(f\"Dealer's hand add up is {dealer_add}\\n\")\n",
    "                    \n",
    "                        # Busted or not\n",
    "                        if dealer_add>21:\n",
    "                            # Player WIN\n",
    "                            print(\"\\nDealer Busted!\\n\")\n",
    "                            self.player_money+=player_bet*2\n",
    "                            print(f\"Here's your money {player_bet*2}.\\nYou have {self.player_money}.\\n\")\n",
    "                            turn=='end'\n",
    "                            break\n",
    "                # Dealer WIN\n",
    "                print('Dealer wins!')\n",
    "                # Next round\n",
    "\n",
    "                    # Player has money / game over\n",
    "\n",
    "                # Playagin?\n",
    "\n",
    "                break\n",
    "            break"
   ]
  },
  {
   "cell_type": "code",
   "execution_count": 76,
   "metadata": {
    "scrolled": true
   },
   "outputs": [
    {
     "name": "stdout",
     "output_type": "stream",
     "text": [
      "Welcome to Black Jack game, how many money are you gaming?\n",
      "\n",
      "Please enter your money: 555\n",
      "Your bet 555 acceptted.\n",
      "\n",
      "Are you ready? (Yes or No)\n",
      "y\n",
      "\n",
      "Let the game begine.\n",
      "\n"
     ]
    },
    {
     "ename": "AttributeError",
     "evalue": "'GameController' object has no attribute 'player_hand'",
     "output_type": "error",
     "traceback": [
      "\u001b[1;31m---------------------------------------------------------------------------\u001b[0m",
      "\u001b[1;31mAttributeError\u001b[0m                            Traceback (most recent call last)",
      "\u001b[1;32m<ipython-input-76-0396b9b01a03>\u001b[0m in \u001b[0;36m<module>\u001b[1;34m\u001b[0m\n\u001b[1;32m----> 1\u001b[1;33m \u001b[0mgame\u001b[0m\u001b[1;33m=\u001b[0m\u001b[0mGameController\u001b[0m\u001b[1;33m(\u001b[0m\u001b[1;33m)\u001b[0m\u001b[1;33m\u001b[0m\u001b[1;33m\u001b[0m\u001b[0m\n\u001b[0m",
      "\u001b[1;32m<ipython-input-75-92ad6afa9afe>\u001b[0m in \u001b[0;36m__init__\u001b[1;34m(self)\u001b[0m\n\u001b[0;32m     10\u001b[0m     \u001b[1;31m# Game setting, how many money dose the player have\u001b[0m\u001b[1;33m\u001b[0m\u001b[1;33m\u001b[0m\u001b[1;33m\u001b[0m\u001b[0m\n\u001b[0;32m     11\u001b[0m     \u001b[1;32mdef\u001b[0m \u001b[0m__init__\u001b[0m\u001b[1;33m(\u001b[0m\u001b[0mself\u001b[0m\u001b[1;33m)\u001b[0m\u001b[1;33m:\u001b[0m\u001b[1;33m\u001b[0m\u001b[1;33m\u001b[0m\u001b[0m\n\u001b[1;32m---> 12\u001b[1;33m         \u001b[0mself\u001b[0m\u001b[1;33m.\u001b[0m\u001b[0mgame_setting\u001b[0m\u001b[1;33m(\u001b[0m\u001b[1;33m)\u001b[0m\u001b[1;33m\u001b[0m\u001b[1;33m\u001b[0m\u001b[0m\n\u001b[0m\u001b[0;32m     13\u001b[0m \u001b[1;33m\u001b[0m\u001b[0m\n\u001b[0;32m     14\u001b[0m \u001b[1;33m\u001b[0m\u001b[0m\n",
      "\u001b[1;32m<ipython-input-75-92ad6afa9afe>\u001b[0m in \u001b[0;36mgame_setting\u001b[1;34m(self)\u001b[0m\n\u001b[0;32m     24\u001b[0m                 \u001b[0mprint\u001b[0m\u001b[1;33m(\u001b[0m\u001b[1;34mf'Your bet {self.player_money} acceptted.\\n'\u001b[0m\u001b[1;33m)\u001b[0m\u001b[1;33m\u001b[0m\u001b[1;33m\u001b[0m\u001b[0m\n\u001b[0;32m     25\u001b[0m                 \u001b[1;32mbreak\u001b[0m\u001b[1;33m\u001b[0m\u001b[1;33m\u001b[0m\u001b[0m\n\u001b[1;32m---> 26\u001b[1;33m         \u001b[0mself\u001b[0m\u001b[1;33m.\u001b[0m\u001b[0mgame\u001b[0m\u001b[1;33m(\u001b[0m\u001b[1;33m)\u001b[0m\u001b[1;33m\u001b[0m\u001b[1;33m\u001b[0m\u001b[0m\n\u001b[0m\u001b[0;32m     27\u001b[0m \u001b[1;33m\u001b[0m\u001b[0m\n\u001b[0;32m     28\u001b[0m     \u001b[1;32mdef\u001b[0m \u001b[0mgame\u001b[0m\u001b[1;33m(\u001b[0m\u001b[0mself\u001b[0m\u001b[1;33m)\u001b[0m\u001b[1;33m:\u001b[0m\u001b[1;33m\u001b[0m\u001b[1;33m\u001b[0m\u001b[0m\n",
      "\u001b[1;32m<ipython-input-75-92ad6afa9afe>\u001b[0m in \u001b[0;36mgame\u001b[1;34m(self)\u001b[0m\n\u001b[0;32m     51\u001b[0m \u001b[1;33m\u001b[0m\u001b[0m\n\u001b[0;32m     52\u001b[0m             \u001b[0mplayer_hand\u001b[0m\u001b[1;33m=\u001b[0m\u001b[0mPlayerHand\u001b[0m\u001b[1;33m(\u001b[0m\u001b[1;34m'player'\u001b[0m\u001b[1;33m)\u001b[0m\u001b[1;33m\u001b[0m\u001b[1;33m\u001b[0m\u001b[0m\n\u001b[1;32m---> 53\u001b[1;33m             \u001b[0mself\u001b[0m\u001b[1;33m.\u001b[0m\u001b[0mplayer_hand\u001b[0m\u001b[1;33m.\u001b[0m\u001b[0mhit\u001b[0m\u001b[1;33m(\u001b[0m\u001b[0mdeck\u001b[0m\u001b[1;33m.\u001b[0m\u001b[0mdraw\u001b[0m\u001b[1;33m(\u001b[0m\u001b[1;33m)\u001b[0m\u001b[1;33m)\u001b[0m\u001b[1;33m\u001b[0m\u001b[1;33m\u001b[0m\u001b[0m\n\u001b[0m\u001b[0;32m     54\u001b[0m \u001b[1;33m\u001b[0m\u001b[0m\n\u001b[0;32m     55\u001b[0m             \u001b[0mdealer_hand\u001b[0m\u001b[1;33m=\u001b[0m\u001b[0mPlayerHand\u001b[0m\u001b[1;33m(\u001b[0m\u001b[1;34m'dealer'\u001b[0m\u001b[1;33m)\u001b[0m\u001b[1;33m\u001b[0m\u001b[1;33m\u001b[0m\u001b[0m\n",
      "\u001b[1;31mAttributeError\u001b[0m: 'GameController' object has no attribute 'player_hand'"
     ]
    }
   ],
   "source": [
    "game=GameController()"
   ]
  },
  {
   "cell_type": "code",
   "execution_count": 71,
   "metadata": {},
   "outputs": [
    {
     "data": {
      "text/plain": [
       "550"
      ]
     },
     "execution_count": 71,
     "metadata": {},
     "output_type": "execute_result"
    }
   ],
   "source": [
    "game.player_money"
   ]
  },
  {
   "cell_type": "code",
   "execution_count": null,
   "metadata": {},
   "outputs": [],
   "source": []
  }
 ],
 "metadata": {
  "kernelspec": {
   "display_name": "Python 3",
   "language": "python",
   "name": "python3"
  },
  "language_info": {
   "codemirror_mode": {
    "name": "ipython",
    "version": 3
   },
   "file_extension": ".py",
   "mimetype": "text/x-python",
   "name": "python",
   "nbconvert_exporter": "python",
   "pygments_lexer": "ipython3",
   "version": "3.7.3"
  }
 },
 "nbformat": 4,
 "nbformat_minor": 2
}
