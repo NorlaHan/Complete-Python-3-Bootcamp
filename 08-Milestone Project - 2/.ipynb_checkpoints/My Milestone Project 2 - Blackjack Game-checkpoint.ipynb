{
 "cells": [
  {
   "cell_type": "markdown",
   "metadata": {},
   "source": [
    "Deck class is to handle which cards are in the deck. Preventing duplicated cards to appear."
   ]
  },
  {
   "cell_type": "code",
   "execution_count": 1,
   "metadata": {},
   "outputs": [],
   "source": [
    "# Deck class\n",
    "import sys\n",
    "import random\n",
    "\n",
    "sys.setrecursionlimit(3000)\n",
    "\n",
    "class Deck():\n",
    "    deck=[]\n",
    "    clubs=list(zip(['clubs']*13,range(1,14)))\n",
    "    diamonds=list(zip(['diamonds']*13,range(1,14)))\n",
    "    hearts=list(zip(['hearts']*13,range(1,14)))\n",
    "    spades=list(zip(['spades']*13,range(1,14)))\n",
    "    \n",
    "    def __init__(self):\n",
    "        self.shuffle()\n",
    "    \n",
    "    def shuffle(self):\n",
    "        self.deck= self.clubs + self.diamonds + self.hearts + self.spades\n",
    "        random.shuffle(self.deck)\n",
    "    \n",
    "    def draw(self):\n",
    "        #self.card=self.deck.pop(random.randint(0,(len(self.deck)-1)))\n",
    "        self.card=self.deck.pop(0)\n",
    "        print('deck remain',len(self.deck),'\\n')\n",
    "        return self.card\n",
    "    \n",
    "    def report(self):\n",
    "        num=len(self.deck)\n",
    "        print(f'There are {num} cards in the deck\\n')\n",
    "        ask=input('Show deck?\\n')\n",
    "        if ask.lower() in ['yes','y']:\n",
    "            print('Deck :')\n",
    "            print(self.deck)\n",
    "            print('\\n')\n",
    "        else:\n",
    "            print('\\n')\n"
   ]
  },
  {
   "cell_type": "code",
   "execution_count": 2,
   "metadata": {
    "scrolled": true
   },
   "outputs": [],
   "source": [
    "deck=Deck()"
   ]
  },
  {
   "cell_type": "code",
   "execution_count": 3,
   "metadata": {},
   "outputs": [
    {
     "name": "stdout",
     "output_type": "stream",
     "text": [
      "deck remain 51 \n",
      "\n"
     ]
    },
    {
     "data": {
      "text/plain": [
       "('clubs', 12)"
      ]
     },
     "execution_count": 3,
     "metadata": {},
     "output_type": "execute_result"
    }
   ],
   "source": [
    "deck.draw()"
   ]
  },
  {
   "cell_type": "markdown",
   "metadata": {},
   "source": [
    "PlayerHand class is to handle which cards are in the player hand."
   ]
  },
  {
   "cell_type": "code",
   "execution_count": 4,
   "metadata": {},
   "outputs": [],
   "source": [
    "# Player hand class\n",
    "class PlayerHand():\n",
    "        \n",
    "    def __init__(self,owner='defult'):\n",
    "        self.owner=owner\n",
    "        self.hand=[]\n",
    "        self.clear()\n",
    "        \n",
    "    def hit(self,card):\n",
    "        self.hand += [card]\n",
    "        print(self.owner, 'hand:',f'\\n{self.hand}\\n')\n",
    "        \n",
    "    def clear(self):\n",
    "        self.hand=[]\n",
    "        \n",
    "    def report(self):\n",
    "        num=len(self.hand)\n",
    "        print(f\"There are {num} cards in the {self.owner}'s hand\\n\")\n",
    "        ask=input(f'Show {self.owner} hand?\\n')\n",
    "        if ask.lower() in ['yes','y']:\n",
    "            print('\\nHand :')\n",
    "            print(self.hand)\n",
    "            print('\\n')\n",
    "        else:\n",
    "             print('\\n')"
   ]
  },
  {
   "cell_type": "code",
   "execution_count": 5,
   "metadata": {},
   "outputs": [],
   "source": [
    "playerhand=PlayerHand('player')\n",
    "dealerhand=PlayerHand('dealer')"
   ]
  },
  {
   "cell_type": "code",
   "execution_count": 6,
   "metadata": {},
   "outputs": [
    {
     "name": "stdout",
     "output_type": "stream",
     "text": [
      "player hand: \n",
      "[('dummy', 2)]\n",
      "\n",
      "dealer hand: \n",
      "[('dummy', 3)]\n",
      "\n"
     ]
    }
   ],
   "source": [
    "playerhand.hit(('dummy',2))\n",
    "dealerhand.hit(('dummy',3))"
   ]
  },
  {
   "cell_type": "markdown",
   "metadata": {},
   "source": [
    "GameController class is to handle the game mechanics.\n",
    "Keep teacking the player's money\n",
    "Game rounds\n",
    "Dealer's rounds"
   ]
  },
  {
   "cell_type": "code",
   "execution_count": 7,
   "metadata": {},
   "outputs": [],
   "source": [
    "from IPython.display import clear_output\n",
    "\n",
    "class GameController():\n",
    "    \n",
    "    player_money=0\n",
    "    \n",
    "    # Game setting, how many money dose the player have\n",
    "    def __init__(self):\n",
    "        print('Welcome to Black Jack game\\n')\n",
    "        print('Place your bet.\\n')\n",
    "        print('You win, get double!\\n')\n",
    "        self.game_setting()        \n",
    "    \n",
    "    def game_setting(self):\n",
    "        print('How many money are you gaming?\\n')\n",
    "        while True:\n",
    "            try:\n",
    "                self.player_money=int(input('Please enter your money: '))\n",
    "                clear_output()\n",
    "            except:\n",
    "                print('You can not bet that, and we do not accept change.\\n')\n",
    "            else:\n",
    "                if self.player_money<10:\n",
    "                    print('Minimal is 10.')\n",
    "                else:\n",
    "                    print(f'Your bet {self.player_money} acceptted.\\n')\n",
    "                    break\n",
    "        self.game()\n",
    "    \n",
    "    def hand_count(self,hand):\n",
    "        add_up=0\n",
    "        for i,v in hand:\n",
    "            if v>=11:\n",
    "                add_up+=10\n",
    "            elif v>=2:\n",
    "                add_up+=v      \n",
    "        for i,v in hand:\n",
    "            if v==1:\n",
    "                if add_up+11 <= 21:\n",
    "                    add_up+=11\n",
    "                \n",
    "                else:\n",
    "                    add_up+=1\n",
    "        return add_up\n",
    "    \n",
    "    def game(self):   \n",
    "        \n",
    "        isplaying=True\n",
    "        game_state=False\n",
    "        \n",
    "        while isplaying:\n",
    "            \n",
    "            while True:\n",
    "                answer = input('Are you ready? (Yes or No)\\n')\n",
    "                clear_output()\n",
    "\n",
    "                if answer.lower() in ['yes','y']:\n",
    "                    print('Let the game begine.\\n')\n",
    "                    game_state=True\n",
    "                    break                    \n",
    "                elif answer.lower() in ['no','n']:                    \n",
    "                    print('OK, take your time.\\n')\n",
    "                else:\n",
    "                    print('That is not an answer.\\n')\n",
    "\n",
    "            # Game start\n",
    "\n",
    "            while game_state:\n",
    "                \n",
    "                # Turn reset\n",
    "                turn='start'\n",
    "                player_bet=0\n",
    "                player_add=0\n",
    "                dealer_add=0                \n",
    "                deck=Deck()            \n",
    "                player_hand=PlayerHand('player')            \n",
    "                dealer_hand=PlayerHand('dealer')\n",
    "                \n",
    "                # Placing bet and checking money\n",
    "                if self.player_money<=0:\n",
    "                    print('\\nNo more money left.\\n')\n",
    "                    \n",
    "                    # Stop the turn to do any more\n",
    "                    game_state=False\n",
    "                    isplaying=False\n",
    "                    \n",
    "                    while True:\n",
    "                        answer=input('Do you want to charge more money? (Yes or No)\\n')\n",
    "                        if answer.lower() in ['yes','y']:\n",
    "                            self.game_setting()                            \n",
    "                            break\n",
    "                        elif answer.lower() in ['no','n']:\n",
    "                            print('Bye.')\n",
    "                            break\n",
    "                        else:\n",
    "                            print('That is not an answer.\\n')\n",
    "                else:                    \n",
    " \n",
    "                    while True:\n",
    "                        try:\n",
    "                            print(f'You have {self.player_money}')\n",
    "                            player_bet=int(input('Place your bet! : '))\n",
    "                            clear_output()\n",
    "                        except:\n",
    "                            print('Seriously... that is not a bet.\\n')\n",
    "                        else:\n",
    "                            if player_bet>self.player_money:\n",
    "                                print(\"Sorry, you don't have that money.\\n\")\n",
    "                            elif player_bet<1:\n",
    "                                print('Minimal bet is 1.\\n')\n",
    "                            else:\n",
    "                                self.player_money-=player_bet\n",
    "                                print(f\"Your bet is : {player_bet},\",f'Money left: {self.player_money}.\\n')\n",
    "                                turn='player'\n",
    "                                break\n",
    "                \n",
    "                # Player's turn\n",
    "                while turn=='player':\n",
    "\n",
    "                    if len(player_hand.hand)==0:\n",
    "                        player_hand.hit(deck.draw())\n",
    "                    else:\n",
    "                        while True:\n",
    "                            ask = input('Hit or stand? \\n')\n",
    "                            clear_output()\n",
    "                            \n",
    "                            if ask.lower() in ['hit','h']:\n",
    "                                player_hand.hit(deck.draw())\n",
    "                                break\n",
    "                            elif ask.lower() in ['stand','s']:\n",
    "                                turn='dealer'\n",
    "                                break\n",
    "                            else:\n",
    "                                print('That is not an answer!\\n')                        \n",
    "\n",
    "                    player_add = self.hand_count(player_hand.hand)                    \n",
    "                    print(f\"Player's hand add up is {player_add}\\n\")\n",
    "                    \n",
    "                    if player_add>21:\n",
    "                        # LOSE\n",
    "                        print(\"Player Busted!\\n\")\n",
    "                        turn='end'\n",
    "                        \n",
    "                # Dealer's turn\n",
    "                while turn=='dealer':\n",
    "                    \n",
    "                    while dealer_add <= player_add and dealer_add!=21:\n",
    "                        \n",
    "                        dealer_hand.hit(deck.draw())                        \n",
    "                        dealer_add=self.hand_count(dealer_hand.hand)\n",
    "                        print(f\"Dealer's hand add up is {dealer_add}\\n\")\n",
    "                    \n",
    "                        input('Press \"Enter\" to continue...')\n",
    "                        clear_output()\n",
    "                    # Dealer WIN\n",
    "                    \n",
    "                    print(f\"Dealer's hand : \\n{dealer_hand.hand}\\n\")\n",
    "                    print(f\"Dealer : {dealer_add}.\\nPlayer : {player_add}.\\n\")\n",
    "                    # reach here only when dealer > player\n",
    "                    if dealer_add==player_add==21:\n",
    "                        print('Draw!')\n",
    "                        self.player_money+=player_bet\n",
    "                        print(f\"Here's your money {player_bet}.\\nYou have {self.player_money}.\\n\")\n",
    "                            \n",
    "                    elif dealer_add <= 21:\n",
    "                        print('Dealer wins!\\n')\n",
    "                        \n",
    "                    elif dealer_add>21:    \n",
    "                        print(\"Dealer Busted!\\n\")\n",
    "                        self.player_money+=player_bet*2\n",
    "                        print(f\"Here's your money {player_bet*2}.\\nYou have {self.player_money}.\\n\")\n",
    "                        #break\n",
    "                    turn='end'\n",
    "                # Next round\n",
    "                while turn=='end':\n",
    "                    replay_answer=input('Play agin?\\n')\n",
    "                    if replay_answer.lower() in ['yes','y']:\n",
    "                        #game_state=False\n",
    "                        turn='start'\n",
    "                    elif replay_answer.lower() in ['no','n']:\n",
    "                        game_state=False\n",
    "                        isplaying=False\n",
    "                        print(f'You left with {self.player_money}.\\n')\n",
    "                        turn='start'\n",
    "                    else:\n",
    "                        print('That is not an answer.\\n')           \n",
    "    "
   ]
  },
  {
   "cell_type": "code",
   "execution_count": 8,
   "metadata": {
    "scrolled": false
   },
   "outputs": [
    {
     "name": "stdout",
     "output_type": "stream",
     "text": [
      "Dealer's hand : \n",
      "[('clubs', 9), ('hearts', 11), ('hearts', 8)]\n",
      "\n",
      "Dealer : 27.\n",
      "Player : 19.\n",
      "\n",
      "Dealer Busted!\n",
      "\n",
      "Here's your money 1200.\n",
      "You have 1800.\n",
      "\n",
      "Play agin?\n",
      "n\n",
      "You left with 1800.\n",
      "\n"
     ]
    }
   ],
   "source": [
    "game=GameController()"
   ]
  },
  {
   "cell_type": "code",
   "execution_count": 9,
   "metadata": {},
   "outputs": [
    {
     "data": {
      "text/plain": [
       "1800"
      ]
     },
     "execution_count": 9,
     "metadata": {},
     "output_type": "execute_result"
    }
   ],
   "source": [
    "game.player_money"
   ]
  },
  {
   "cell_type": "code",
   "execution_count": null,
   "metadata": {},
   "outputs": [],
   "source": []
  }
 ],
 "metadata": {
  "kernelspec": {
   "display_name": "Python 3",
   "language": "python",
   "name": "python3"
  },
  "language_info": {
   "codemirror_mode": {
    "name": "ipython",
    "version": 3
   },
   "file_extension": ".py",
   "mimetype": "text/x-python",
   "name": "python",
   "nbconvert_exporter": "python",
   "pygments_lexer": "ipython3",
   "version": "3.7.3"
  }
 },
 "nbformat": 4,
 "nbformat_minor": 2
}
