{
 "cells": [
  {
   "cell_type": "markdown",
   "metadata": {},
   "source": [
    "Deck class is to handle which cards are in the deck. Preventing duplicated cards to appear."
   ]
  },
  {
   "cell_type": "code",
   "execution_count": 98,
   "metadata": {},
   "outputs": [],
   "source": [
    "# Deck class\n",
    "import sys\n",
    "import random\n",
    "\n",
    "sys.setrecursionlimit(3000)\n",
    "\n",
    "class Deck():\n",
    "    deck=[]\n",
    "    clubs=list(zip(['clubs']*13,range(1,14)))\n",
    "    diamonds=list(zip(['diamonds']*13,range(1,14)))\n",
    "    hearts=list(zip(['hearts']*13,range(1,14)))\n",
    "    spades=list(zip(['spades']*13,range(1,14)))\n",
    "    \n",
    "    def __init__(self):\n",
    "        self.shuffle()\n",
    "    \n",
    "    def shuffle(self):\n",
    "        self.deck= self.clubs + self.diamonds + self.hearts + self.spades\n",
    "        random.shuffle(self.deck)\n",
    "    \n",
    "    def draw(self):\n",
    "        #self.card=self.deck.pop(random.randint(0,(len(self.deck)-1)))\n",
    "        self.card=self.deck.pop(0)\n",
    "        print('deck remain',len(self.deck),'\\n')\n",
    "        return self.card\n",
    "    \n",
    "    def report(self):\n",
    "        num=len(self.deck)\n",
    "        print(f'There are {num} cards in the deck\\n')\n",
    "        ask=input('Show deck?\\n')\n",
    "        if ask.lower() in ['yes','y']:\n",
    "            print('Deck :')\n",
    "            print(self.deck)\n",
    "            print('\\n')\n",
    "        else:\n",
    "            print('\\n')\n"
   ]
  },
  {
   "cell_type": "code",
   "execution_count": 99,
   "metadata": {
    "scrolled": true
   },
   "outputs": [],
   "source": [
    "deck=Deck()"
   ]
  },
  {
   "cell_type": "code",
   "execution_count": 100,
   "metadata": {},
   "outputs": [
    {
     "name": "stdout",
     "output_type": "stream",
     "text": [
      "deck remain 51 \n",
      "\n"
     ]
    },
    {
     "data": {
      "text/plain": [
       "('clubs', 3)"
      ]
     },
     "execution_count": 100,
     "metadata": {},
     "output_type": "execute_result"
    }
   ],
   "source": [
    "deck.draw()"
   ]
  },
  {
   "cell_type": "markdown",
   "metadata": {},
   "source": [
    "PlayerHand class is to handle which cards aer in the player hand."
   ]
  },
  {
   "cell_type": "code",
   "execution_count": 101,
   "metadata": {},
   "outputs": [],
   "source": [
    "# Player hand class\n",
    "class PlayerHand():\n",
    "        \n",
    "    def __init__(self,owner='defult'):\n",
    "        self.owner=owner\n",
    "        self.hand=[]\n",
    "        self.clear()\n",
    "        \n",
    "    def hit(self,card):\n",
    "        self.hand += [card]\n",
    "        print(self.owner, 'hand:',f'\\n{self.hand}\\n')\n",
    "        \n",
    "    def clear(self):\n",
    "        self.hand=[]\n",
    "        \n",
    "    def report(self):\n",
    "        num=len(self.hand)\n",
    "        print(f\"There are {num} cards in the {self.owner}'s hand\")\n",
    "        ask=input(f'Show {self.owner} hand?\\n')\n",
    "        if ask.lower() in ['yes','y']:\n",
    "            print('\\nHand :')\n",
    "            print(self.hand)\n",
    "            print('\\n')\n",
    "        else:\n",
    "             print('\\n')"
   ]
  },
  {
   "cell_type": "code",
   "execution_count": 102,
   "metadata": {},
   "outputs": [],
   "source": [
    "playerhand=PlayerHand('player')\n",
    "dealerhand=PlayerHand('dealer')"
   ]
  },
  {
   "cell_type": "code",
   "execution_count": 103,
   "metadata": {},
   "outputs": [
    {
     "name": "stdout",
     "output_type": "stream",
     "text": [
      "player hand: \n",
      "[('dummy', 2)]\n",
      "\n",
      "dealer hand: \n",
      "[('dummy', 3)]\n",
      "\n"
     ]
    }
   ],
   "source": [
    "playerhand.hit(('dummy',2))\n",
    "dealerhand.hit(('dummy',3))"
   ]
  },
  {
   "cell_type": "markdown",
   "metadata": {},
   "source": [
    "GameController class is to handle the game mechanics.\n",
    "Keep teacking the player's money\n",
    "Game rounds\n",
    "Dealer's rounds"
   ]
  },
  {
   "cell_type": "code",
   "execution_count": 111,
   "metadata": {},
   "outputs": [],
   "source": [
    "#import Deck\n",
    "#import PlayerHand\n",
    "# Game class\n",
    "from IPython.display import clear_output\n",
    "\n",
    "class GameController():\n",
    "    \n",
    "    player_money=0\n",
    "    #game_state=False\n",
    "    #isplaying=True\n",
    "    \n",
    "    # Game setting, how many money dose the player have\n",
    "    def __init__(self):\n",
    "        self.game_setting()\n",
    "        \n",
    "    \n",
    "    def game_setting(self):\n",
    "        # Grettings\n",
    "        print('Welcome to Black Jack game, how many money are you gaming?\\n')\n",
    "        while True:\n",
    "            try:\n",
    "                self.player_money=int(input('Please enter your money: '))\n",
    "                clear_output()\n",
    "            except:\n",
    "                print('You can not bet that, and we do not accept change.\\n')\n",
    "            else:\n",
    "                print(f'Your bet {self.player_money} acceptted.\\n')\n",
    "                break\n",
    "        self.game()\n",
    "    \n",
    "    def hand_count(self,hand):\n",
    "        add_up=0\n",
    "        for i,v in hand:\n",
    "            if v>=11:\n",
    "                add_up+=10\n",
    "            elif v>=2:\n",
    "                add_up+=v\n",
    "            else:\n",
    "                if add_up+11 <= 21:\n",
    "                    add_up+=11\n",
    "                else:\n",
    "                    add_up+=1\n",
    "        return add_up\n",
    "    \n",
    "    def game(self):   \n",
    "        \n",
    "        isplaying=True\n",
    "        game_state=False\n",
    "        isplaying=True\n",
    "        \n",
    "        while isplaying:\n",
    "            \n",
    "            ready=False\n",
    "\n",
    "            while not ready:\n",
    "\n",
    "                answer = input('Are you ready? (Yes or No)\\n')\n",
    "                clear_output()\n",
    "\n",
    "                if answer.lower() in ['yes','y']:\n",
    "                    print('Let the game begine.\\n')\n",
    "                    ready=True\n",
    "                    game_state=True\n",
    "                elif answer.lower() in ['no','n']:\n",
    "                    ready=False\n",
    "                    print('OK, take your time.\\n')\n",
    "                else:\n",
    "                    print('That is not an answer.\\n')\n",
    "\n",
    "            # Game start\n",
    "            while game_state:\n",
    "                \n",
    "                # Turn reset\n",
    "                turn='player'\n",
    "                player_bet=0\n",
    "                player_add=0\n",
    "                dealer_add=0                \n",
    "                deck=Deck()            \n",
    "                player_hand=PlayerHand('player')            \n",
    "                dealer_hand=PlayerHand('dealer')\n",
    "                \n",
    "                # Placing bet and checking money\n",
    "                if self.player_money<=0: # Game Over\n",
    "                    print('\\nNo more money left.\\n')\n",
    "                    game_state=False\n",
    "                    \n",
    "                    while True:\n",
    "                        answer=input('Do you want to charge more money? (Yes or No)')\n",
    "                        if answer.lower() in ['yes','y']:\n",
    "                            break\n",
    "                        elif answer.lower() in ['no','n']:\n",
    "                            print('Bye.')\n",
    "                            isplaying=False\n",
    "                            break\n",
    "                        else:\n",
    "                            print('That is not an answer.\\n')\n",
    "                else:\n",
    "                    \n",
    "                    bet_ready=False\n",
    "                                        \n",
    "                    while not bet_ready:\n",
    "                        try:\n",
    "                            print(f'You have {self.player_money}')\n",
    "                            player_bet=int(input('Place your bet! :'))\n",
    "                            clear_output()\n",
    "                        except:\n",
    "                            print('Seriously... that is not a bet.\\n')\n",
    "                        else:\n",
    "                            if player_bet>self.player_money:\n",
    "                                print(\"Sorry, you don't have that money.\\n\")\n",
    "                            else:\n",
    "                                self.player_money-=player_bet\n",
    "                                print(f\"Your bet is : {player_bet},\",f'Money left: {self.player_money}')\n",
    "                                bet_ready=True\n",
    "                \n",
    "                # Player's turn\n",
    "                while turn=='player':\n",
    "\n",
    "                    if len(player_hand.hand)==0:\n",
    "                        player_hand.hit(deck.draw())\n",
    "                    else:\n",
    "                        \n",
    "                        asking_hit_stand=True\n",
    "                        \n",
    "                        while asking_hit_stand:\n",
    "                            \n",
    "                            ask = input('Hit or stand? ')\n",
    "                            clear_output()\n",
    "                            \n",
    "                            if ask.lower() in ['hit','h']:\n",
    "                                player_hand.hit(deck.draw())                                \n",
    "                                asking_hit_stand=False\n",
    "                            elif ask.lower() in ['stand','s']:\n",
    "                                turn='dealer'\n",
    "                                asking_hit_stand=False\n",
    "                                break\n",
    "                            else:\n",
    "                                print('That is not an answer!\\n')                        \n",
    "\n",
    "                    player_add = self.hand_count(player_hand.hand)                    \n",
    "                    print(f\"Player's hand add up is {player_add}\\n\")\n",
    "                    \n",
    "                    if player_add>21:\n",
    "                        # LOSE\n",
    "                        print(\"\\nPlayer Busted!\\n\")\n",
    "                        turn='end'\n",
    "                        \n",
    "                # Dealer's turn\n",
    "                while turn=='dealer':\n",
    "                    \n",
    "                    while dealer_add < player_add:\n",
    "                        \n",
    "                        dealer_hand.hit(deck.draw())\n",
    "                        \n",
    "                        dealer_add=self.hand_count(dealer_hand.hand)\n",
    "                        print(f\"Dealer's hand add up is {dealer_add}\\n\")\n",
    "                    \n",
    "                        # Dealer busted\n",
    "                        if dealer_add>21:\n",
    "                            # Player WIN\n",
    "                            print(\"\\nDealer Busted!\\n\")\n",
    "                            self.player_money+=player_bet*2\n",
    "                            print(f\"Here's your money {player_bet*2}.\\nYou have {self.player_money}.\\n\")\n",
    "                            turn='end'\n",
    "                            break\n",
    "                        input('Press \"Enter\" to continue...')\n",
    "                        clear_output()\n",
    "                    # Dealer WIN\n",
    "                    print('Dealer wins!')\n",
    "                    turn='end'\n",
    "                    \n",
    "                # Next round\n",
    "                print('Next!')\n",
    "                \n",
    "                # Player has money / game over\n",
    "                \n",
    "                # Playagin?\n",
    "\n",
    "            break\n",
    "            \n",
    "    "
   ]
  },
  {
   "cell_type": "code",
   "execution_count": 112,
   "metadata": {
    "scrolled": true
   },
   "outputs": [
    {
     "name": "stdout",
     "output_type": "stream",
     "text": [
      "deck remain 49 \n",
      "\n",
      "player hand: \n",
      "[('diamonds', 6), ('spades', 6), ('clubs', 13)]\n",
      "\n",
      "Player's hand add up is 22\n",
      "\n",
      "\n",
      "Player Busted!\n",
      "\n",
      "Next!\n"
     ]
    }
   ],
   "source": [
    "game=GameController()"
   ]
  },
  {
   "cell_type": "code",
   "execution_count": 106,
   "metadata": {},
   "outputs": [
    {
     "data": {
      "text/plain": [
       "0"
      ]
     },
     "execution_count": 106,
     "metadata": {},
     "output_type": "execute_result"
    }
   ],
   "source": [
    "game.player_money"
   ]
  },
  {
   "cell_type": "code",
   "execution_count": null,
   "metadata": {},
   "outputs": [],
   "source": []
  }
 ],
 "metadata": {
  "kernelspec": {
   "display_name": "Python 3",
   "language": "python",
   "name": "python3"
  }
 },
 "nbformat": 4,
 "nbformat_minor": 2
}
