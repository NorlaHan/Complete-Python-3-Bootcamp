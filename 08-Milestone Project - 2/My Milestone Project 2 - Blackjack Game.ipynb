{
 "cells": [
  {
   "cell_type": "markdown",
   "metadata": {},
   "source": [
    "Deck class is to handle which cards are in the deck. Preventing duplicated cards to appear."
   ]
  },
  {
   "cell_type": "code",
   "execution_count": 222,
   "metadata": {},
   "outputs": [],
   "source": [
    "# Deck class\n",
    "import sys\n",
    "import random\n",
    "\n",
    "sys.setrecursionlimit(3000)\n",
    "\n",
    "class Deck():\n",
    "    deck=[]\n",
    "    clubs=list(zip(['clubs']*13,range(1,14)))\n",
    "    diamonds=list(zip(['diamonds']*13,range(1,14)))\n",
    "    hearts=list(zip(['hearts']*13,range(1,14)))\n",
    "    spades=list(zip(['spades']*13,range(1,14)))\n",
    "    \n",
    "    def __init__(self):\n",
    "        self.shuffle()\n",
    "        #self.deck= self.clubs + self.diamonds + self.hearts + self.spades\n",
    "        #print(len(self.deck))\n",
    "        pass\n",
    "    \n",
    "    def shuffle(self):\n",
    "        self.deck= self.clubs + self.diamonds + self.hearts + self.spades\n",
    "        random.shuffle(self.deck)\n",
    "        print(len(self.deck))\n",
    "        pass\n",
    "    \n",
    "    def draw(self):\n",
    "        self.card=self.deck.pop(random.randint(0,(len(self.deck)-1)))\n",
    "        print('deck remain',len(self.deck))\n",
    "        return self.card\n",
    "    \n",
    "    def report(self):\n",
    "        num=len(self.deck)\n",
    "        print(f'There are {num} cards in the deck\\n')\n",
    "        ask=input('Show deck?\\n')\n",
    "        if ask.lower() in ['yes','y']:\n",
    "            print('\\nDeck :')\n",
    "            print(self.deck)\n",
    "            print('\\n')\n",
    "        else:\n",
    "            print('\\n')\n"
   ]
  },
  {
   "cell_type": "code",
   "execution_count": 160,
   "metadata": {
    "scrolled": true
   },
   "outputs": [
    {
     "name": "stdout",
     "output_type": "stream",
     "text": [
      "52\n"
     ]
    }
   ],
   "source": [
    "deck=Deck()"
   ]
  },
  {
   "cell_type": "code",
   "execution_count": 161,
   "metadata": {},
   "outputs": [
    {
     "name": "stdout",
     "output_type": "stream",
     "text": [
      "51\n"
     ]
    },
    {
     "data": {
      "text/plain": [
       "('clubs', 5)"
      ]
     },
     "execution_count": 161,
     "metadata": {},
     "output_type": "execute_result"
    }
   ],
   "source": [
    "deck.draw()"
   ]
  },
  {
   "cell_type": "markdown",
   "metadata": {},
   "source": [
    "PlayerHand class is to handle which cards aer in the player hand."
   ]
  },
  {
   "cell_type": "code",
   "execution_count": 223,
   "metadata": {},
   "outputs": [],
   "source": [
    "# Player hand class\n",
    "class PlayerHand():\n",
    "    hand=[]\n",
    "    \n",
    "    def __init__(self,owner='defult'):\n",
    "        self.owner=owner\n",
    "        self.clear()\n",
    "        \n",
    "    def hit(self,card):\n",
    "        self.hand += [card]\n",
    "        print(self.hand)\n",
    "        \n",
    "    def clear(self):\n",
    "        self.hand=[]\n",
    "        \n",
    "    def report(self):\n",
    "        num=len(self.hand)\n",
    "        print(f\"There are {num} cards in the {self.owner}'s hand\")\n",
    "        ask=input(f'Show {self.owner} hand?\\n')\n",
    "        if ask.lower() in ['yes','y']:\n",
    "            print('\\nHand :')\n",
    "            print(self.hand)\n",
    "            print('\\n')\n",
    "        else:\n",
    "             print('\\n')"
   ]
  },
  {
   "cell_type": "code",
   "execution_count": 163,
   "metadata": {},
   "outputs": [],
   "source": [
    "playerhand=PlayerHand()"
   ]
  },
  {
   "cell_type": "code",
   "execution_count": 164,
   "metadata": {},
   "outputs": [
    {
     "name": "stdout",
     "output_type": "stream",
     "text": [
      "['dummy', 2]\n"
     ]
    }
   ],
   "source": [
    "playerhand.hit(['dummy',2])"
   ]
  },
  {
   "cell_type": "markdown",
   "metadata": {},
   "source": [
    "GameController class is to handle the game mechanics.\n",
    "Keep teacking the player's money\n",
    "Game rounds\n",
    "Dealer's rounds"
   ]
  },
  {
   "cell_type": "code",
   "execution_count": 224,
   "metadata": {},
   "outputs": [],
   "source": [
    "#import Deck\n",
    "#import PlayerHand\n",
    "# Game class\n",
    "class GameController():\n",
    "    \n",
    "    player_money=0\n",
    "    game_state=False\n",
    "    isplaying=True\n",
    "    \n",
    "    # Game setting, how many money dose the player have\n",
    "    def __init__(self):\n",
    "        self.game_setting()\n",
    "        \n",
    "    \n",
    "    def game_setting(self):\n",
    "        # Grettings\n",
    "        print('Welcome to Black Jack game, how many money are you gaming?\\n')\n",
    "        while True:\n",
    "            try:\n",
    "                self.player_money=int(input('Please enter your money: '))\n",
    "            except:\n",
    "                print('You can not bet that, and we do not accept change.\\n')\n",
    "            else:\n",
    "                print(f'Your bet {self.player_money} acceptted.')\n",
    "                break\n",
    "        self.game()\n",
    "        \n",
    "    def game(self):   \n",
    "        \n",
    "        isplaying=True\n",
    "        \n",
    "        while isplaying:\n",
    "            \n",
    "            ready=False\n",
    "            \n",
    "            while not ready:\n",
    "\n",
    "                answer = input('Are you ready? (Yes or No)\\n')\n",
    "\n",
    "                if answer.lower() in ['yes','y']:\n",
    "                    print('\\nLet the game begine.\\n')\n",
    "                    ready=True\n",
    "                    game_state=True\n",
    "                elif answer.lower() in ['no','n']:\n",
    "                    ready=False\n",
    "                    print('OK, take your time.\\n')\n",
    "                else:\n",
    "                    print('That is not an answer.\\n')\n",
    "            \n",
    "            deck=Deck()            \n",
    "            deck.report() # TODO delete\n",
    "            \n",
    "            player_hand=PlayerHand('player')\n",
    "            player_hand.report() # TODO delete\n",
    "            \n",
    "            dealer_hand=PlayerHand('dealer')\n",
    "            dealer_hand.report() # TODO delete\n",
    "            \n",
    "            turn='player'\n",
    "            \n",
    "            # Game start\n",
    "            while game_state:\n",
    "                if self.player_money<=0:\n",
    "                    print('No more money left, bye')\n",
    "                    isplaying=False\n",
    "                    break\n",
    "                else:\n",
    "                    bet_ready=False\n",
    "                                        \n",
    "                    while not bet_ready:\n",
    "                        try:\n",
    "                            bet=int(input('Place your bet! :'))\n",
    "                        except:\n",
    "                            print('Seriously... that is not a bet.\\n')\n",
    "                        else:\n",
    "                            bet_ready=True\n",
    "                            \n",
    "                    print(f\"Your bet is : {bet}\\n\")\n",
    "                \n",
    "                # Player's turn\n",
    "                while turn=='player':\n",
    "                    \n",
    "                    if len(player_hand.hand)==0:\n",
    "                        player_hand.hit(deck.draw())\n",
    "                        player_hand.report()\n",
    "                    else:\n",
    "                        ask = input('Hit or stand?')\n",
    "                        if ask.lower()=='hit':\n",
    "                            player_hand.hit(deck.draw())\n",
    "                            player_hand.report()\n",
    "                        elif ask.loer()=='stand':\n",
    "                            player_hand.report()\n",
    "                            turn='dealer'\n",
    "                    \n",
    "                    # Check for hand add up\n",
    "                    add=0                    \n",
    "                    for i,v in player_hand.hand:\n",
    "                        if v>=11:\n",
    "                            add+=10\n",
    "                        elif v>=2:\n",
    "                            add+=v\n",
    "                        else:\n",
    "                            if add+11 <= 21:\n",
    "                                add+=11\n",
    "                            elif add+1 <= 21:\n",
    "                                add+=1\n",
    "                    if add>21:\n",
    "                        print(\"\\nBusted!\\n\")\n",
    "                    print(f'Your hand add up is {add}\\n')\n",
    "                    \n",
    "           \n",
    "                                \n",
    "\n",
    "                    # stand or bust\n",
    "\n",
    "\n",
    "                # Dealer's turn\n",
    "\n",
    "                    # win or bust\n",
    "\n",
    "                # Next round\n",
    "\n",
    "                    # Player has money / game over\n",
    "\n",
    "                # Playagin?\n",
    "\n",
    "                break\n",
    "            break"
   ]
  },
  {
   "cell_type": "code",
   "execution_count": 225,
   "metadata": {
    "scrolled": true
   },
   "outputs": [
    {
     "name": "stdout",
     "output_type": "stream",
     "text": [
      "Welcome to Black Jack game, how many money are you gaming?\n",
      "\n",
      "Please enter your money: 555\n",
      "Your bet 555 acceptted.\n",
      "Are you ready? (Yes or No)\n",
      "y\n",
      "\n",
      "Let the game begine.\n",
      "\n",
      "52\n",
      "There are 52 cards in the deck\n",
      "\n",
      "Show deck?\n",
      "n\n",
      "\n",
      "\n",
      "There are 0 cards in the player's hand\n",
      "Show player hand?\n",
      "n\n",
      "\n",
      "\n",
      "There are 0 cards in the dealer's hand\n",
      "Show dealer hand?\n",
      "n\n",
      "\n",
      "\n",
      "Place your bet! :5\n",
      "Your bet is : 5\n",
      "\n",
      "51\n",
      "[('spades', 12)]\n",
      "There are 1 cards in the player's hand\n",
      "Show player hand?\n",
      "y\n",
      "\n",
      "Hand :\n",
      "[('spades', 12)]\n",
      "\n",
      "\n",
      "Your hand add up is 10\n",
      "\n",
      "Hit or stand?hit\n",
      "50\n",
      "[('spades', 12), ('diamonds', 2)]\n",
      "There are 2 cards in the player's hand\n",
      "Show player hand?\n",
      "y\n",
      "\n",
      "Hand :\n",
      "[('spades', 12), ('diamonds', 2)]\n",
      "\n",
      "\n",
      "Your hand add up is 12\n",
      "\n",
      "Hit or stand?hit\n",
      "49\n",
      "[('spades', 12), ('diamonds', 2), ('clubs', 13)]\n",
      "There are 3 cards in the player's hand\n",
      "Show player hand?\n",
      "y\n",
      "\n",
      "Hand :\n",
      "[('spades', 12), ('diamonds', 2), ('clubs', 13)]\n",
      "\n",
      "\n",
      "Your hand add up is 22\n",
      "\n",
      "Hit or stand?\n"
     ]
    },
    {
     "ename": "AttributeError",
     "evalue": "'str' object has no attribute 'loer'",
     "output_type": "error",
     "traceback": [
      "\u001b[1;31m---------------------------------------------------------------------------\u001b[0m",
      "\u001b[1;31mAttributeError\u001b[0m                            Traceback (most recent call last)",
      "\u001b[1;32m<ipython-input-225-0396b9b01a03>\u001b[0m in \u001b[0;36m<module>\u001b[1;34m\u001b[0m\n\u001b[1;32m----> 1\u001b[1;33m \u001b[0mgame\u001b[0m\u001b[1;33m=\u001b[0m\u001b[0mGameController\u001b[0m\u001b[1;33m(\u001b[0m\u001b[1;33m)\u001b[0m\u001b[1;33m\u001b[0m\u001b[1;33m\u001b[0m\u001b[0m\n\u001b[0m",
      "\u001b[1;32m<ipython-input-224-254953e298e7>\u001b[0m in \u001b[0;36m__init__\u001b[1;34m(self)\u001b[0m\n\u001b[0;32m     10\u001b[0m     \u001b[1;31m# Game setting, how many money dose the player have\u001b[0m\u001b[1;33m\u001b[0m\u001b[1;33m\u001b[0m\u001b[1;33m\u001b[0m\u001b[0m\n\u001b[0;32m     11\u001b[0m     \u001b[1;32mdef\u001b[0m \u001b[0m__init__\u001b[0m\u001b[1;33m(\u001b[0m\u001b[0mself\u001b[0m\u001b[1;33m)\u001b[0m\u001b[1;33m:\u001b[0m\u001b[1;33m\u001b[0m\u001b[1;33m\u001b[0m\u001b[0m\n\u001b[1;32m---> 12\u001b[1;33m         \u001b[0mself\u001b[0m\u001b[1;33m.\u001b[0m\u001b[0mgame_setting\u001b[0m\u001b[1;33m(\u001b[0m\u001b[1;33m)\u001b[0m\u001b[1;33m\u001b[0m\u001b[1;33m\u001b[0m\u001b[0m\n\u001b[0m\u001b[0;32m     13\u001b[0m \u001b[1;33m\u001b[0m\u001b[0m\n\u001b[0;32m     14\u001b[0m \u001b[1;33m\u001b[0m\u001b[0m\n",
      "\u001b[1;32m<ipython-input-224-254953e298e7>\u001b[0m in \u001b[0;36mgame_setting\u001b[1;34m(self)\u001b[0m\n\u001b[0;32m     24\u001b[0m                 \u001b[0mprint\u001b[0m\u001b[1;33m(\u001b[0m\u001b[1;34mf'Your bet {self.player_money} acceptted.'\u001b[0m\u001b[1;33m)\u001b[0m\u001b[1;33m\u001b[0m\u001b[1;33m\u001b[0m\u001b[0m\n\u001b[0;32m     25\u001b[0m                 \u001b[1;32mbreak\u001b[0m\u001b[1;33m\u001b[0m\u001b[1;33m\u001b[0m\u001b[0m\n\u001b[1;32m---> 26\u001b[1;33m         \u001b[0mself\u001b[0m\u001b[1;33m.\u001b[0m\u001b[0mgame\u001b[0m\u001b[1;33m(\u001b[0m\u001b[1;33m)\u001b[0m\u001b[1;33m\u001b[0m\u001b[1;33m\u001b[0m\u001b[0m\n\u001b[0m\u001b[0;32m     27\u001b[0m \u001b[1;33m\u001b[0m\u001b[0m\n\u001b[0;32m     28\u001b[0m     \u001b[1;32mdef\u001b[0m \u001b[0mgame\u001b[0m\u001b[1;33m(\u001b[0m\u001b[0mself\u001b[0m\u001b[1;33m)\u001b[0m\u001b[1;33m:\u001b[0m\u001b[1;33m\u001b[0m\u001b[1;33m\u001b[0m\u001b[0m\n",
      "\u001b[1;32m<ipython-input-224-254953e298e7>\u001b[0m in \u001b[0;36mgame\u001b[1;34m(self)\u001b[0m\n\u001b[0;32m     89\u001b[0m                             \u001b[0mplayer_hand\u001b[0m\u001b[1;33m.\u001b[0m\u001b[0mhit\u001b[0m\u001b[1;33m(\u001b[0m\u001b[0mdeck\u001b[0m\u001b[1;33m.\u001b[0m\u001b[0mdraw\u001b[0m\u001b[1;33m(\u001b[0m\u001b[1;33m)\u001b[0m\u001b[1;33m)\u001b[0m\u001b[1;33m\u001b[0m\u001b[1;33m\u001b[0m\u001b[0m\n\u001b[0;32m     90\u001b[0m                             \u001b[0mplayer_hand\u001b[0m\u001b[1;33m.\u001b[0m\u001b[0mreport\u001b[0m\u001b[1;33m(\u001b[0m\u001b[1;33m)\u001b[0m\u001b[1;33m\u001b[0m\u001b[1;33m\u001b[0m\u001b[0m\n\u001b[1;32m---> 91\u001b[1;33m                         \u001b[1;32melif\u001b[0m \u001b[0mask\u001b[0m\u001b[1;33m.\u001b[0m\u001b[0mloer\u001b[0m\u001b[1;33m(\u001b[0m\u001b[1;33m)\u001b[0m\u001b[1;33m==\u001b[0m\u001b[1;34m'stand'\u001b[0m\u001b[1;33m:\u001b[0m\u001b[1;33m\u001b[0m\u001b[1;33m\u001b[0m\u001b[0m\n\u001b[0m\u001b[0;32m     92\u001b[0m                             \u001b[0mplayer_hand\u001b[0m\u001b[1;33m.\u001b[0m\u001b[0mreport\u001b[0m\u001b[1;33m(\u001b[0m\u001b[1;33m)\u001b[0m\u001b[1;33m\u001b[0m\u001b[1;33m\u001b[0m\u001b[0m\n\u001b[0;32m     93\u001b[0m                             \u001b[0mturn\u001b[0m\u001b[1;33m=\u001b[0m\u001b[1;34m'dealer'\u001b[0m\u001b[1;33m\u001b[0m\u001b[1;33m\u001b[0m\u001b[0m\n",
      "\u001b[1;31mAttributeError\u001b[0m: 'str' object has no attribute 'loer'"
     ]
    }
   ],
   "source": [
    "game=GameController()"
   ]
  },
  {
   "cell_type": "code",
   "execution_count": null,
   "metadata": {},
   "outputs": [],
   "source": [
    "game.player_money"
   ]
  },
  {
   "cell_type": "code",
   "execution_count": null,
   "metadata": {},
   "outputs": [],
   "source": []
  }
 ],
 "metadata": {
  "kernelspec": {
   "display_name": "Python 3",
   "language": "python",
   "name": "python3"
  },
  "language_info": {
   "codemirror_mode": {
    "name": "ipython",
    "version": 3
   },
   "file_extension": ".py",
   "mimetype": "text/x-python",
   "name": "python",
   "nbconvert_exporter": "python",
   "pygments_lexer": "ipython3",
   "version": "3.7.3"
  }
 },
 "nbformat": 4,
 "nbformat_minor": 2
}
